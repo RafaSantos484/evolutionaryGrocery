{
 "cells": [
  {
   "cell_type": "markdown",
   "metadata": {},
   "source": [
    "Considere que deseja-se colocar em um recipiente vários objetos escolhidos\n",
    "entre os 9 apresentados na tabela abaixo. Os objetos devem ser escolhidos de tal forma que\n",
    "o valor total dos objetos colocados no recipiente seja o máximo, desde que o peso total dos\n",
    "objetos selecionados não ultrapasse 150 kg . Por exemplo, o recipiente poderia conter os\n",
    "objetos a, b, c, d, e, f , g, o que daria um total de 144 kg, com um valor total de R$ 147.\n",
    "\n",
    "\n",
    "---\n",
    "\n",
    "\n",
    "![tabelaAtv.png](data:image/png;base64,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)\n",
    "\n",
    "\n",
    "---\n",
    "\n",
    "Projete um Algoritmo Genético para resolver este problema de otimização. Defina os operadores de reprodução, o mecanismo de seleção e a função de avaliação (fitness) a serem utilizados.\n"
   ]
  },
  {
   "cell_type": "markdown",
   "metadata": {},
   "source": [
    "## Código"
   ]
  },
  {
   "cell_type": "code",
   "execution_count": 1,
   "metadata": {},
   "outputs": [],
   "source": [
    "import numpy as np"
   ]
  },
  {
   "cell_type": "code",
   "execution_count": 2,
   "metadata": {},
   "outputs": [],
   "source": [
    "weights = np.array([9, 34, 15, 27, 7, 34, 18, 43, 42])\n",
    "prices = np.array([11, 32, 18, 27, 5, 36, 18, 42, 43])"
   ]
  },
  {
   "cell_type": "code",
   "execution_count": 3,
   "metadata": {},
   "outputs": [],
   "source": [
    "class EvolutionarySystem:\n",
    "    def __init__(self, initial_pop: list[list[int]], num_gens=500, mutation_rate=0.1):\n",
    "        self.population = np.array(initial_pop)\n",
    "        self.num_gens = num_gens\n",
    "        self.mutation_rate = mutation_rate\n",
    "\n",
    "    def get_fitness(self, individual: np.ndarray) -> float:\n",
    "        weight = 0\n",
    "        price = 0\n",
    "        for gene in individual:\n",
    "            weight += weights[gene]\n",
    "            price += prices[gene]\n",
    "\n",
    "        return 0 if weight > 150 else price\n",
    "\n",
    "    # Retorna as aptidões da população atual\n",
    "    def get_fitnesses(self) -> np.ndarray:\n",
    "        return np.array([self.get_fitness(individual) for individual in self.population])\n",
    "\n",
    "    # Realiza seleção por roleta\n",
    "    def roulette_selection(self):\n",
    "        probs = self.fitnesses / self.fitnesses.sum()\n",
    "        selected_individuals = np.random.choice(len(self.population), size=len(self.population), p=probs)\n",
    "        self.population = self.population[selected_individuals]\n",
    "        self.fitnesses = self.fitnesses[selected_individuals]\n",
    "\n",
    "    # Realiza mutações aleatórias\n",
    "    def mutate_population(self) -> np.ndarray:\n",
    "        for i in range(len(self.population)):\n",
    "            if np.random.rand() < self.mutation_rate:\n",
    "                mutation_type = np.random.randint(0, 3)\n",
    "                # Remove gene\n",
    "                if mutation_type == 0 and len(self.population[i]) > 1:\n",
    "                    random_idx = np.random.randint(0, len(self.population[i]))\n",
    "                    self.population[i] = np.delete(self.population[i], random_idx)\n",
    "                # Substitui gene\n",
    "                elif mutation_type == 1:\n",
    "                    random_gene = np.random.randint(0, len(self.population[i]))\n",
    "                    self.population[i][random_gene] = np.random.randint(0, len(prices))\n",
    "                # Insere gene\n",
    "                else:\n",
    "                    self.population[i] = np.insert(self.population[i], 0, np.random.randint(0, len(prices)))\n",
    "\n",
    "                self.fitnesses[i] = self.get_fitness(self.population[i])\n",
    "\n",
    "    def run(self) -> np.ndarray:\n",
    "        self.fitnesses = self.get_fitnesses()\n",
    "        for _ in range(self.num_gens):\n",
    "            self.roulette_selection()\n",
    "            self.mutate_population()\n",
    "\n",
    "        best_idx = np.argmax(self.fitnesses)\n",
    "        return self.population[best_idx], self.fitnesses[best_idx]"
   ]
  },
  {
   "cell_type": "code",
   "execution_count": 4,
   "metadata": {},
   "outputs": [],
   "source": [
    "'''\n",
    "def generate_bag():\n",
    "    weight = 0\n",
    "    bag = []\n",
    "    while True:\n",
    "        i = np.random.randint(0, len(prices))\n",
    "        weight += weights[i]\n",
    "        if weight > 150:\n",
    "            break\n",
    "        bag.append(i)\n",
    "\n",
    "    return np.array(bag)\n",
    "'''\n",
    "\n",
    "\n",
    "def generate_bag():\n",
    "    bag = []\n",
    "    for _ in range(np.random.randint(1, 16)):\n",
    "        bag.append(np.random.randint(len(prices)))\n",
    "    return np.array(bag)\n",
    "\n",
    "\n",
    "def generate_population(size: int):\n",
    "    return np.array([generate_bag() for _ in range(size)], dtype=object)"
   ]
  },
  {
   "cell_type": "code",
   "execution_count": 10,
   "metadata": {},
   "outputs": [
    {
     "name": "stdout",
     "output_type": "stream",
     "text": [
      "Melhor recipiente: [2 5 6 5 4 1]\n",
      "Melhor preço: 138\n"
     ]
    }
   ],
   "source": [
    "population = generate_population(10)\n",
    "system = EvolutionarySystem(population, num_gens=100)\n",
    "best_bag, price = system.run()\n",
    "print(f'Melhor recipiente: {best_bag}')\n",
    "print(f'Melhor preço: {price}')"
   ]
  },
  {
   "cell_type": "code",
   "execution_count": 6,
   "metadata": {},
   "outputs": [
    {
     "name": "stdout",
     "output_type": "stream",
     "text": [
      "Melhor recipiente: [6 4 8 7 3 1 2 2]\n",
      "Melhor preço: 159\n"
     ]
    }
   ],
   "source": [
    "population = generate_population(100)\n",
    "system = EvolutionarySystem(population, num_gens=1000)\n",
    "best_bag, price = system.run()\n",
    "print(f'Melhor recipiente: {best_bag}')\n",
    "print(f'Melhor preço: {price}')"
   ]
  },
  {
   "cell_type": "code",
   "execution_count": 8,
   "metadata": {},
   "outputs": [
    {
     "name": "stdout",
     "output_type": "stream",
     "text": [
      "Melhor recipiente: [8 5 2 1 1 6 5 7]\n",
      "Melhor preço: 166\n"
     ]
    }
   ],
   "source": [
    "population = generate_population(500)\n",
    "system = EvolutionarySystem(population, num_gens=5000)\n",
    "best_bag, price = system.run()\n",
    "print(f'Melhor recipiente: {best_bag}')\n",
    "print(f'Melhor preço: {price}')"
   ]
  }
 ],
 "metadata": {
  "kernelspec": {
   "display_name": "Python 3",
   "language": "python",
   "name": "python3"
  },
  "language_info": {
   "codemirror_mode": {
    "name": "ipython",
    "version": 3
   },
   "file_extension": ".py",
   "mimetype": "text/x-python",
   "name": "python",
   "nbconvert_exporter": "python",
   "pygments_lexer": "ipython3",
   "version": "3.10.11"
  }
 },
 "nbformat": 4,
 "nbformat_minor": 2
}
